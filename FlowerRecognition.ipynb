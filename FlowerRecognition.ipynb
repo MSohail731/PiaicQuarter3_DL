{
  "nbformat": 4,
  "nbformat_minor": 0,
  "metadata": {
    "colab": {
      "name": "FlowerRecognition.ipynb",
      "provenance": []
    },
    "kernelspec": {
      "name": "python3",
      "display_name": "Python 3"
    },
    "language_info": {
      "name": "python"
    }
  },
  "cells": [
    {
      "cell_type": "code",
      "metadata": {
        "id": "jeNMpaoL81oC"
      },
      "source": [
        "import numpy as np\n",
        "import pandas as pd\n",
        "import tensorflow as tf"
      ],
      "execution_count": 1,
      "outputs": []
    },
    {
      "cell_type": "code",
      "metadata": {
        "id": "yKg2DggB_IwG",
        "colab": {
          "base_uri": "https://localhost:8080/"
        },
        "outputId": "32b8f3c0-7120-4edc-ad0d-d62a827208ba"
      },
      "source": [
        "!ls -ahl"
      ],
      "execution_count": 2,
      "outputs": [
        {
          "output_type": "stream",
          "text": [
            "total 16K\n",
            "drwxr-xr-x 1 root root 4.0K Jul 16 13:20 .\n",
            "drwxr-xr-x 1 root root 4.0K Jul 25 02:48 ..\n",
            "drwxr-xr-x 4 root root 4.0K Jul 16 13:19 .config\n",
            "drwxr-xr-x 1 root root 4.0K Jul 16 13:20 sample_data\n"
          ],
          "name": "stdout"
        }
      ]
    },
    {
      "cell_type": "code",
      "metadata": {
        "id": "00CKN0aFHmwU"
      },
      "source": [
        "#get data download mount uncompress\n",
        "#from google.colab import drive\n",
        "#!ls drive/mydrive\n",
        "!rm -Rf flowers\n",
        "!unzrip 'drive/mydrive/flowers.zip'"
      ],
      "execution_count": null,
      "outputs": []
    },
    {
      "cell_type": "code",
      "metadata": {
        "id": "T5Qtm13-mOYL"
      },
      "source": [
        "!ls flowers\n",
        "!rm -Rf data"
      ],
      "execution_count": null,
      "outputs": []
    },
    {
      "cell_type": "code",
      "metadata": {
        "id": "AKHzSl2JmzkT",
        "outputId": "44edc484-2bf5-4530-e5c9-e13ecc74f906",
        "colab": {
          "base_uri": "https://localhost:8080/"
        }
      },
      "source": [
        "from google.colab import drive\n",
        "drive.mount('/content/drive')"
      ],
      "execution_count": 3,
      "outputs": [
        {
          "output_type": "stream",
          "text": [
            "Mounted at /content/drive\n"
          ],
          "name": "stdout"
        }
      ]
    },
    {
      "cell_type": "code",
      "metadata": {
        "id": "O-hYf4u1m-kF"
      },
      "source": [
        ""
      ],
      "execution_count": null,
      "outputs": []
    }
  ]
}